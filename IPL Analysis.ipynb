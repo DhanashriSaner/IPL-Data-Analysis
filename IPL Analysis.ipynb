{
 "cells": [
  {
   "cell_type": "code",
   "execution_count": 10,
   "metadata": {},
   "outputs": [],
   "source": [
    "import numpy as np\n",
    "import pandas as pd\n",
    "import matplotlib.pyplot as plt\n",
    "import seaborn as sns\n",
    "plt.rcParams['figure.figsize'] = (14, 8)"
   ]
  },
  {
   "cell_type": "code",
   "execution_count": 11,
   "metadata": {},
   "outputs": [],
   "source": [
    "pathoffile='/home/srinath07/Documents/Myfolder/ipldata/matches.csv'"
   ]
  },
  {
   "cell_type": "code",
   "execution_count": 12,
   "metadata": {},
   "outputs": [],
   "source": [
    "matches=pd.read_csv(pathoffile)"
   ]
  },
  {
   "cell_type": "code",
   "execution_count": 13,
   "metadata": {},
   "outputs": [
    {
     "data": {
      "text/plain": [
       "(756, 18)"
      ]
     },
     "execution_count": 13,
     "metadata": {},
     "output_type": "execute_result"
    }
   ],
   "source": [
    "matches.shape"
   ]
  },
  {
   "cell_type": "code",
   "execution_count": 14,
   "metadata": {
    "scrolled": true
   },
   "outputs": [
    {
     "data": {
      "text/plain": [
       "<bound method NDFrame.head of         id  season           city        date                        team1  \\\n",
       "0        1    2017      Hyderabad  2017-04-05          Sunrisers Hyderabad   \n",
       "1        2    2017           Pune  2017-04-06               Mumbai Indians   \n",
       "2        3    2017         Rajkot  2017-04-07                Gujarat Lions   \n",
       "3        4    2017         Indore  2017-04-08       Rising Pune Supergiant   \n",
       "4        5    2017      Bangalore  2017-04-08  Royal Challengers Bangalore   \n",
       "5        6    2017      Hyderabad  2017-04-09                Gujarat Lions   \n",
       "6        7    2017         Mumbai  2017-04-09        Kolkata Knight Riders   \n",
       "7        8    2017         Indore  2017-04-10  Royal Challengers Bangalore   \n",
       "8        9    2017           Pune  2017-04-11             Delhi Daredevils   \n",
       "9       10    2017         Mumbai  2017-04-12          Sunrisers Hyderabad   \n",
       "10      11    2017        Kolkata  2017-04-13              Kings XI Punjab   \n",
       "11      12    2017      Bangalore  2017-04-14  Royal Challengers Bangalore   \n",
       "12      13    2017         Rajkot  2017-04-14       Rising Pune Supergiant   \n",
       "13      14    2017        Kolkata  2017-04-15        Kolkata Knight Riders   \n",
       "14      15    2017          Delhi  2017-04-15             Delhi Daredevils   \n",
       "15      16    2017         Mumbai  2017-04-16                Gujarat Lions   \n",
       "16      17    2017      Bangalore  2017-04-16       Rising Pune Supergiant   \n",
       "17      18    2017          Delhi  2017-04-17             Delhi Daredevils   \n",
       "18      19    2017      Hyderabad  2017-04-17          Sunrisers Hyderabad   \n",
       "19      20    2017         Rajkot  2017-04-18  Royal Challengers Bangalore   \n",
       "20      21    2017      Hyderabad  2017-04-19          Sunrisers Hyderabad   \n",
       "21      22    2017         Indore  2017-04-20              Kings XI Punjab   \n",
       "22      23    2017        Kolkata  2017-04-21        Kolkata Knight Riders   \n",
       "23      24    2017         Mumbai  2017-04-22               Mumbai Indians   \n",
       "24      25    2017           Pune  2017-04-22          Sunrisers Hyderabad   \n",
       "25      26    2017         Rajkot  2017-04-23              Kings XI Punjab   \n",
       "26      27    2017        Kolkata  2017-04-23        Kolkata Knight Riders   \n",
       "27      28    2017         Mumbai  2017-04-24       Rising Pune Supergiant   \n",
       "28      29    2017           Pune  2017-04-26       Rising Pune Supergiant   \n",
       "29      30    2017      Bangalore  2017-04-27  Royal Challengers Bangalore   \n",
       "..     ...     ...            ...         ...                          ...   \n",
       "726  11322    2019         Mumbai    15/04/19  Royal Challengers Bangalore   \n",
       "727  11323    2019         Mohali    16/04/19              Kings XI Punjab   \n",
       "728  11324    2019      Hyderabad    17/04/19          Chennai Super Kings   \n",
       "729  11325    2019          Delhi    18/04/19               Mumbai Indians   \n",
       "730  11326    2019        Kolkata    19/04/19  Royal Challengers Bangalore   \n",
       "731  11327    2019         Jaipur    20/04/19               Mumbai Indians   \n",
       "732  11328    2019          Delhi    20/04/19              Kings XI Punjab   \n",
       "733  11329    2019      Hyderabad    21/04/19        Kolkata Knight Riders   \n",
       "734  11330    2019      Bengaluru    21/04/19  Royal Challengers Bangalore   \n",
       "735  11331    2019         Jaipur    22/04/19             Rajasthan Royals   \n",
       "736  11332    2019        Chennai    23/04/19          Sunrisers Hyderabad   \n",
       "737  11333    2019      Bengaluru    24/04/19  Royal Challengers Bangalore   \n",
       "738  11334    2019        Kolkata    25/04/19        Kolkata Knight Riders   \n",
       "739  11335    2019        Chennai    26/04/19               Mumbai Indians   \n",
       "740  11336    2019         Jaipur    27/04/19          Sunrisers Hyderabad   \n",
       "741  11337    2019          Delhi    28/04/19               Delhi Capitals   \n",
       "742  11338    2019        Kolkata    28/04/19        Kolkata Knight Riders   \n",
       "743  11339    2019      Hyderabad    29/04/19          Sunrisers Hyderabad   \n",
       "744  11340    2019      Bengaluru    30/04/19  Royal Challengers Bangalore   \n",
       "745  11341    2019        Chennai    01/05/19          Chennai Super Kings   \n",
       "746  11342    2019         Mumbai    02/05/19               Mumbai Indians   \n",
       "747  11343    2019         Mohali    03/05/19              Kings XI Punjab   \n",
       "748  11344    2019          Delhi    04/05/19             Rajasthan Royals   \n",
       "749  11345    2019      Bengaluru    04/05/19          Sunrisers Hyderabad   \n",
       "750  11346    2019         Mohali    05/05/19          Chennai Super Kings   \n",
       "751  11347    2019         Mumbai    05/05/19        Kolkata Knight Riders   \n",
       "752  11412    2019        Chennai    07/05/19          Chennai Super Kings   \n",
       "753  11413    2019  Visakhapatnam    08/05/19          Sunrisers Hyderabad   \n",
       "754  11414    2019  Visakhapatnam    10/05/19               Delhi Capitals   \n",
       "755  11415    2019      Hyderabad    12/05/19               Mumbai Indians   \n",
       "\n",
       "                           team2                  toss_winner toss_decision  \\\n",
       "0    Royal Challengers Bangalore  Royal Challengers Bangalore         field   \n",
       "1         Rising Pune Supergiant       Rising Pune Supergiant         field   \n",
       "2          Kolkata Knight Riders        Kolkata Knight Riders         field   \n",
       "3                Kings XI Punjab              Kings XI Punjab         field   \n",
       "4               Delhi Daredevils  Royal Challengers Bangalore           bat   \n",
       "5            Sunrisers Hyderabad          Sunrisers Hyderabad         field   \n",
       "6                 Mumbai Indians               Mumbai Indians         field   \n",
       "7                Kings XI Punjab  Royal Challengers Bangalore           bat   \n",
       "8         Rising Pune Supergiant       Rising Pune Supergiant         field   \n",
       "9                 Mumbai Indians               Mumbai Indians         field   \n",
       "10         Kolkata Knight Riders        Kolkata Knight Riders         field   \n",
       "11                Mumbai Indians               Mumbai Indians         field   \n",
       "12                 Gujarat Lions                Gujarat Lions         field   \n",
       "13           Sunrisers Hyderabad          Sunrisers Hyderabad         field   \n",
       "14               Kings XI Punjab             Delhi Daredevils           bat   \n",
       "15                Mumbai Indians               Mumbai Indians         field   \n",
       "16   Royal Challengers Bangalore  Royal Challengers Bangalore         field   \n",
       "17         Kolkata Knight Riders             Delhi Daredevils           bat   \n",
       "18               Kings XI Punjab              Kings XI Punjab         field   \n",
       "19                 Gujarat Lions                Gujarat Lions         field   \n",
       "20              Delhi Daredevils          Sunrisers Hyderabad           bat   \n",
       "21                Mumbai Indians               Mumbai Indians         field   \n",
       "22                 Gujarat Lions                Gujarat Lions         field   \n",
       "23              Delhi Daredevils             Delhi Daredevils         field   \n",
       "24        Rising Pune Supergiant       Rising Pune Supergiant         field   \n",
       "25                 Gujarat Lions                Gujarat Lions         field   \n",
       "26   Royal Challengers Bangalore  Royal Challengers Bangalore         field   \n",
       "27                Mumbai Indians               Mumbai Indians         field   \n",
       "28         Kolkata Knight Riders        Kolkata Knight Riders         field   \n",
       "29                 Gujarat Lions                Gujarat Lions         field   \n",
       "..                           ...                          ...           ...   \n",
       "726               Mumbai Indians               Mumbai Indians         field   \n",
       "727             Rajasthan Royals             Rajasthan Royals         field   \n",
       "728          Sunrisers Hyderabad          Chennai Super Kings           bat   \n",
       "729               Delhi Capitals               Mumbai Indians           bat   \n",
       "730        Kolkata Knight Riders        Kolkata Knight Riders         field   \n",
       "731             Rajasthan Royals             Rajasthan Royals         field   \n",
       "732               Delhi Capitals               Delhi Capitals         field   \n",
       "733          Sunrisers Hyderabad          Sunrisers Hyderabad         field   \n",
       "734          Chennai Super Kings          Chennai Super Kings         field   \n",
       "735               Delhi Capitals               Delhi Capitals         field   \n",
       "736          Chennai Super Kings          Chennai Super Kings         field   \n",
       "737              Kings XI Punjab              Kings XI Punjab         field   \n",
       "738             Rajasthan Royals             Rajasthan Royals         field   \n",
       "739          Chennai Super Kings          Chennai Super Kings         field   \n",
       "740             Rajasthan Royals             Rajasthan Royals         field   \n",
       "741  Royal Challengers Bangalore               Delhi Capitals           bat   \n",
       "742               Mumbai Indians               Mumbai Indians         field   \n",
       "743              Kings XI Punjab              Kings XI Punjab         field   \n",
       "744             Rajasthan Royals             Rajasthan Royals         field   \n",
       "745               Delhi Capitals               Delhi Capitals         field   \n",
       "746          Sunrisers Hyderabad               Mumbai Indians           bat   \n",
       "747        Kolkata Knight Riders        Kolkata Knight Riders         field   \n",
       "748               Delhi Capitals             Rajasthan Royals           bat   \n",
       "749  Royal Challengers Bangalore  Royal Challengers Bangalore         field   \n",
       "750              Kings XI Punjab              Kings XI Punjab         field   \n",
       "751               Mumbai Indians               Mumbai Indians         field   \n",
       "752               Mumbai Indians          Chennai Super Kings           bat   \n",
       "753               Delhi Capitals               Delhi Capitals         field   \n",
       "754          Chennai Super Kings          Chennai Super Kings         field   \n",
       "755          Chennai Super Kings               Mumbai Indians           bat   \n",
       "\n",
       "        result  dl_applied                       winner  win_by_runs  \\\n",
       "0       normal           0          Sunrisers Hyderabad           35   \n",
       "1       normal           0       Rising Pune Supergiant            0   \n",
       "2       normal           0        Kolkata Knight Riders            0   \n",
       "3       normal           0              Kings XI Punjab            0   \n",
       "4       normal           0  Royal Challengers Bangalore           15   \n",
       "5       normal           0          Sunrisers Hyderabad            0   \n",
       "6       normal           0               Mumbai Indians            0   \n",
       "7       normal           0              Kings XI Punjab            0   \n",
       "8       normal           0             Delhi Daredevils           97   \n",
       "9       normal           0               Mumbai Indians            0   \n",
       "10      normal           0        Kolkata Knight Riders            0   \n",
       "11      normal           0               Mumbai Indians            0   \n",
       "12      normal           0                Gujarat Lions            0   \n",
       "13      normal           0        Kolkata Knight Riders           17   \n",
       "14      normal           0             Delhi Daredevils           51   \n",
       "15      normal           0               Mumbai Indians            0   \n",
       "16      normal           0       Rising Pune Supergiant           27   \n",
       "17      normal           0        Kolkata Knight Riders            0   \n",
       "18      normal           0          Sunrisers Hyderabad            5   \n",
       "19      normal           0  Royal Challengers Bangalore           21   \n",
       "20      normal           0          Sunrisers Hyderabad           15   \n",
       "21      normal           0               Mumbai Indians            0   \n",
       "22      normal           0                Gujarat Lions            0   \n",
       "23      normal           0               Mumbai Indians           14   \n",
       "24      normal           0       Rising Pune Supergiant            0   \n",
       "25      normal           0              Kings XI Punjab           26   \n",
       "26      normal           0        Kolkata Knight Riders           82   \n",
       "27      normal           0       Rising Pune Supergiant            3   \n",
       "28      normal           0        Kolkata Knight Riders            0   \n",
       "29      normal           0                Gujarat Lions            0   \n",
       "..         ...         ...                          ...          ...   \n",
       "726     normal           0               Mumbai Indians            0   \n",
       "727     normal           0              Kings XI Punjab           12   \n",
       "728     normal           0          Sunrisers Hyderabad            0   \n",
       "729     normal           0               Mumbai Indians           40   \n",
       "730     normal           0  Royal Challengers Bangalore           10   \n",
       "731     normal           0             Rajasthan Royals            0   \n",
       "732     normal           0               Delhi Capitals            0   \n",
       "733     normal           0          Sunrisers Hyderabad            0   \n",
       "734     normal           0  Royal Challengers Bangalore            1   \n",
       "735     normal           0               Delhi Capitals            0   \n",
       "736     normal           0          Chennai Super Kings            0   \n",
       "737     normal           0  Royal Challengers Bangalore           17   \n",
       "738     normal           0             Rajasthan Royals            0   \n",
       "739     normal           0               Mumbai Indians           46   \n",
       "740     normal           0             Rajasthan Royals            0   \n",
       "741     normal           0               Delhi Capitals           16   \n",
       "742     normal           0        Kolkata Knight Riders           34   \n",
       "743     normal           0          Sunrisers Hyderabad           45   \n",
       "744  no result           0                          NaN            0   \n",
       "745     normal           0          Chennai Super Kings           80   \n",
       "746        tie           0               Mumbai Indians            0   \n",
       "747     normal           0        Kolkata Knight Riders            0   \n",
       "748     normal           0               Delhi Capitals            0   \n",
       "749     normal           0  Royal Challengers Bangalore            0   \n",
       "750     normal           0              Kings XI Punjab            0   \n",
       "751     normal           0               Mumbai Indians            0   \n",
       "752     normal           0               Mumbai Indians            0   \n",
       "753     normal           0               Delhi Capitals            0   \n",
       "754     normal           0          Chennai Super Kings            0   \n",
       "755     normal           0               Mumbai Indians            1   \n",
       "\n",
       "     win_by_wickets  player_of_match  \\\n",
       "0                 0     Yuvraj Singh   \n",
       "1                 7        SPD Smith   \n",
       "2                10          CA Lynn   \n",
       "3                 6       GJ Maxwell   \n",
       "4                 0        KM Jadhav   \n",
       "5                 9      Rashid Khan   \n",
       "6                 4           N Rana   \n",
       "7                 8         AR Patel   \n",
       "8                 0        SV Samson   \n",
       "9                 4        JJ Bumrah   \n",
       "10                8        SP Narine   \n",
       "11                4       KA Pollard   \n",
       "12                7           AJ Tye   \n",
       "13                0       RV Uthappa   \n",
       "14                0      CJ Anderson   \n",
       "15                6           N Rana   \n",
       "16                0        BA Stokes   \n",
       "17                4  NM Coulter-Nile   \n",
       "18                0          B Kumar   \n",
       "19                0         CH Gayle   \n",
       "20                0    KS Williamson   \n",
       "21                8       JC Buttler   \n",
       "22                4         SK Raina   \n",
       "23                0   MJ McClenaghan   \n",
       "24                6         MS Dhoni   \n",
       "25                0          HM Amla   \n",
       "26                0  NM Coulter-Nile   \n",
       "27                0        BA Stokes   \n",
       "28                7       RV Uthappa   \n",
       "29                7           AJ Tye   \n",
       "..              ...              ...   \n",
       "726               5       SL Malinga   \n",
       "727               0         R Ashwin   \n",
       "728               6        DA Warner   \n",
       "729               0        HH Pandya   \n",
       "730               0          V Kohli   \n",
       "731               5        SPD Smith   \n",
       "732               5          SS Iyer   \n",
       "733               9          K Ahmed   \n",
       "734               0         PA Patel   \n",
       "735               6          RR Pant   \n",
       "736               6        SR Watson   \n",
       "737               0   AB de Villiers   \n",
       "738               3         VR Aaron   \n",
       "739               0        RG Sharma   \n",
       "740               7       JD Unadkat   \n",
       "741               0         S Dhawan   \n",
       "742               0       AD Russell   \n",
       "743               0        DA Warner   \n",
       "744               0              NaN   \n",
       "745               0         MS Dhoni   \n",
       "746               0        JJ Bumrah   \n",
       "747               7           S Gill   \n",
       "748               5         A Mishra   \n",
       "749               4        S Hetmyer   \n",
       "750               6         KL Rahul   \n",
       "751               9        HH Pandya   \n",
       "752               6         AS Yadav   \n",
       "753               2          RR Pant   \n",
       "754               6     F du Plessis   \n",
       "755               0        JJ Bumrah   \n",
       "\n",
       "                                         venue                umpire1  \\\n",
       "0    Rajiv Gandhi International Stadium, Uppal            AY Dandekar   \n",
       "1      Maharashtra Cricket Association Stadium         A Nand Kishore   \n",
       "2       Saurashtra Cricket Association Stadium            Nitin Menon   \n",
       "3                       Holkar Cricket Stadium           AK Chaudhary   \n",
       "4                        M Chinnaswamy Stadium                    NaN   \n",
       "5    Rajiv Gandhi International Stadium, Uppal             A Deshmukh   \n",
       "6                             Wankhede Stadium            Nitin Menon   \n",
       "7                       Holkar Cricket Stadium           AK Chaudhary   \n",
       "8      Maharashtra Cricket Association Stadium            AY Dandekar   \n",
       "9                             Wankhede Stadium            Nitin Menon   \n",
       "10                                Eden Gardens             A Deshmukh   \n",
       "11                       M Chinnaswamy Stadium  KN Ananthapadmanabhan   \n",
       "12      Saurashtra Cricket Association Stadium         A Nand Kishore   \n",
       "13                                Eden Gardens            AY Dandekar   \n",
       "14                            Feroz Shah Kotla               YC Barde   \n",
       "15                            Wankhede Stadium         A Nand Kishore   \n",
       "16                       M Chinnaswamy Stadium  KN Ananthapadmanabhan   \n",
       "17                            Feroz Shah Kotla            Nitin Menon   \n",
       "18   Rajiv Gandhi International Stadium, Uppal            AY Dandekar   \n",
       "19      Saurashtra Cricket Association Stadium                 S Ravi   \n",
       "20   Rajiv Gandhi International Stadium, Uppal            CB Gaffaney   \n",
       "21                      Holkar Cricket Stadium              M Erasmus   \n",
       "22                                Eden Gardens            CB Gaffaney   \n",
       "23                            Wankhede Stadium         A Nand Kishore   \n",
       "24     Maharashtra Cricket Association Stadium            AY Dandekar   \n",
       "25      Saurashtra Cricket Association Stadium           AK Chaudhary   \n",
       "26                                Eden Gardens            CB Gaffaney   \n",
       "27                            Wankhede Stadium         A Nand Kishore   \n",
       "28     Maharashtra Cricket Association Stadium            AY Dandekar   \n",
       "29                       M Chinnaswamy Stadium           AK Chaudhary   \n",
       "..                                         ...                    ...   \n",
       "726                           Wankhede Stadium         Marais Erasmus   \n",
       "727                          IS Bindra Stadium         Anil Chaudhary   \n",
       "728         Rajiv Gandhi Intl. Cricket Stadium              Ian Gould   \n",
       "729                    Feroz Shah Kotla Ground            Nigel Llong   \n",
       "730                               Eden Gardens              Ian Gould   \n",
       "731                     Sawai Mansingh Stadium                 S Ravi   \n",
       "732                    Feroz Shah Kotla Ground           Ulhas Gandhe   \n",
       "733         Rajiv Gandhi Intl. Cricket Stadium            Nitin Menon   \n",
       "734                     M. Chinnaswamy Stadium        Vineet Kulkarni   \n",
       "735                     Sawai Mansingh Stadium                 S Ravi   \n",
       "736                  M. A. Chidambaram Stadium            Nigel Llong   \n",
       "737                     M. Chinnaswamy Stadium         Bruce Oxenford   \n",
       "738                               Eden Gardens              Ian Gould   \n",
       "739                  M. A. Chidambaram Stadium            Nigel Llong   \n",
       "740                     Sawai Mansingh Stadium         Yeshwant Barde   \n",
       "741                    Feroz Shah Kotla Ground         Bruce Oxenford   \n",
       "742                               Eden Gardens              Ian Gould   \n",
       "743         Rajiv Gandhi Intl. Cricket Stadium                 S Ravi   \n",
       "744                     M. Chinnaswamy Stadium            Nigel Llong   \n",
       "745                  M. A. Chidambaram Stadium          Anil Dandekar   \n",
       "746                           Wankhede Stadium                 S Ravi   \n",
       "747                          IS Bindra Stadium         Bruce Oxenford   \n",
       "748                    Feroz Shah Kotla Ground              Ian Gould   \n",
       "749                     M. Chinnaswamy Stadium            Nigel Llong   \n",
       "750                          IS Bindra Stadium  KN Ananthapadmanabhan   \n",
       "751                           Wankhede Stadium          Nanda Kishore   \n",
       "752                  M. A. Chidambaram Stadium            Nigel Llong   \n",
       "753                           ACA-VDCA Stadium                    NaN   \n",
       "754                           ACA-VDCA Stadium          Sundaram Ravi   \n",
       "755         Rajiv Gandhi Intl. Cricket Stadium            Nitin Menon   \n",
       "\n",
       "                   umpire2                  umpire3  \n",
       "0                 NJ Llong                      NaN  \n",
       "1                   S Ravi                      NaN  \n",
       "2                CK Nandan                      NaN  \n",
       "3            C Shamshuddin                      NaN  \n",
       "4                      NaN                      NaN  \n",
       "5                 NJ Llong                      NaN  \n",
       "6                CK Nandan                      NaN  \n",
       "7            C Shamshuddin                      NaN  \n",
       "8                   S Ravi                      NaN  \n",
       "9                CK Nandan                      NaN  \n",
       "10                NJ Llong                      NaN  \n",
       "11            AK Chaudhary                      NaN  \n",
       "12                  S Ravi                      NaN  \n",
       "13                NJ Llong                      NaN  \n",
       "14             Nitin Menon                      NaN  \n",
       "15                  S Ravi                      NaN  \n",
       "16           C Shamshuddin                      NaN  \n",
       "17               CK Nandan                      NaN  \n",
       "18              A Deshmukh                      NaN  \n",
       "19               VK Sharma                      NaN  \n",
       "20                NJ Llong                      NaN  \n",
       "21           C Shamshuddin                      NaN  \n",
       "22             Nitin Menon                      NaN  \n",
       "23                  S Ravi                      NaN  \n",
       "24              A Deshmukh                      NaN  \n",
       "25               M Erasmus                      NaN  \n",
       "26               CK Nandan                      NaN  \n",
       "27                  S Ravi                      NaN  \n",
       "28                NJ Llong                      NaN  \n",
       "29           C Shamshuddin                      NaN  \n",
       "..                     ...                      ...  \n",
       "726            Nitin Menon            Nanda Kishore  \n",
       "727        Vineet Kulkarni                   S Ravi  \n",
       "728           Ulhas Gandhe            C Shamshuddin  \n",
       "729         Bruce Oxenford           Anil Chaudhary  \n",
       "730            Nitin Menon            Anil Dandekar  \n",
       "731         Yeshwant Barde                 O Nandan  \n",
       "732          C Shamshuddin           Bruce Oxenford  \n",
       "733            Nigel Llong                Ian Gould  \n",
       "734             Rod Tucker           Anil Chaudhary  \n",
       "735          Nanda Kishore           Yeshwant Barde  \n",
       "736         Anil Chaudhary          Vineet Kulkarni  \n",
       "737          C Shamshuddin               Rod Tucker  \n",
       "738          Anil Dandekar              Nitin Menon  \n",
       "739         Anil Chaudhary          Vineet Kulkarni  \n",
       "740           Nand Kishore            Sundaram Ravi  \n",
       "741  KN Ananthapadmanabhan            C Shamshuddin  \n",
       "742            Nitin Menon            Anil Dandekar  \n",
       "743               O Nandan            Nanda Kishore  \n",
       "744           Ulhas Gandhe           Anil Chaudhary  \n",
       "745            Nitin Menon                Ian Gould  \n",
       "746               O Nandan            Nanda Kishore  \n",
       "747          C Shamshuddin    KN Ananthapadmanabhan  \n",
       "748          Anil Dandekar              Nitin Menon  \n",
       "749         Anil Chaudhary             Ulhas Gandhe  \n",
       "750          C Shamshuddin           Bruce Oxenford  \n",
       "751               O Nandan                   S Ravi  \n",
       "752            Nitin Menon                Ian Gould  \n",
       "753                    NaN                      NaN  \n",
       "754         Bruce Oxenford  Chettithody Shamshuddin  \n",
       "755              Ian Gould              Nigel Llong  \n",
       "\n",
       "[756 rows x 18 columns]>"
      ]
     },
     "execution_count": 14,
     "metadata": {},
     "output_type": "execute_result"
    }
   ],
   "source": [
    "matches.head"
   ]
  },
  {
   "cell_type": "code",
   "execution_count": 15,
   "metadata": {},
   "outputs": [
    {
     "data": {
      "text/html": [
       "<div>\n",
       "<style scoped>\n",
       "    .dataframe tbody tr th:only-of-type {\n",
       "        vertical-align: middle;\n",
       "    }\n",
       "\n",
       "    .dataframe tbody tr th {\n",
       "        vertical-align: top;\n",
       "    }\n",
       "\n",
       "    .dataframe thead th {\n",
       "        text-align: right;\n",
       "    }\n",
       "</style>\n",
       "<table border=\"1\" class=\"dataframe\">\n",
       "  <thead>\n",
       "    <tr style=\"text-align: right;\">\n",
       "      <th></th>\n",
       "      <th>id</th>\n",
       "      <th>season</th>\n",
       "      <th>dl_applied</th>\n",
       "      <th>win_by_runs</th>\n",
       "      <th>win_by_wickets</th>\n",
       "    </tr>\n",
       "  </thead>\n",
       "  <tbody>\n",
       "    <tr>\n",
       "      <th>count</th>\n",
       "      <td>756.000000</td>\n",
       "      <td>756.000000</td>\n",
       "      <td>756.000000</td>\n",
       "      <td>756.000000</td>\n",
       "      <td>756.000000</td>\n",
       "    </tr>\n",
       "    <tr>\n",
       "      <th>mean</th>\n",
       "      <td>1792.178571</td>\n",
       "      <td>2013.444444</td>\n",
       "      <td>0.025132</td>\n",
       "      <td>13.283069</td>\n",
       "      <td>3.350529</td>\n",
       "    </tr>\n",
       "    <tr>\n",
       "      <th>std</th>\n",
       "      <td>3464.478148</td>\n",
       "      <td>3.366895</td>\n",
       "      <td>0.156630</td>\n",
       "      <td>23.471144</td>\n",
       "      <td>3.387963</td>\n",
       "    </tr>\n",
       "    <tr>\n",
       "      <th>min</th>\n",
       "      <td>1.000000</td>\n",
       "      <td>2008.000000</td>\n",
       "      <td>0.000000</td>\n",
       "      <td>0.000000</td>\n",
       "      <td>0.000000</td>\n",
       "    </tr>\n",
       "    <tr>\n",
       "      <th>25%</th>\n",
       "      <td>189.750000</td>\n",
       "      <td>2011.000000</td>\n",
       "      <td>0.000000</td>\n",
       "      <td>0.000000</td>\n",
       "      <td>0.000000</td>\n",
       "    </tr>\n",
       "    <tr>\n",
       "      <th>50%</th>\n",
       "      <td>378.500000</td>\n",
       "      <td>2013.000000</td>\n",
       "      <td>0.000000</td>\n",
       "      <td>0.000000</td>\n",
       "      <td>4.000000</td>\n",
       "    </tr>\n",
       "    <tr>\n",
       "      <th>75%</th>\n",
       "      <td>567.250000</td>\n",
       "      <td>2016.000000</td>\n",
       "      <td>0.000000</td>\n",
       "      <td>19.000000</td>\n",
       "      <td>6.000000</td>\n",
       "    </tr>\n",
       "    <tr>\n",
       "      <th>max</th>\n",
       "      <td>11415.000000</td>\n",
       "      <td>2019.000000</td>\n",
       "      <td>1.000000</td>\n",
       "      <td>146.000000</td>\n",
       "      <td>10.000000</td>\n",
       "    </tr>\n",
       "  </tbody>\n",
       "</table>\n",
       "</div>"
      ],
      "text/plain": [
       "                 id       season  dl_applied  win_by_runs  win_by_wickets\n",
       "count    756.000000   756.000000  756.000000   756.000000      756.000000\n",
       "mean    1792.178571  2013.444444    0.025132    13.283069        3.350529\n",
       "std     3464.478148     3.366895    0.156630    23.471144        3.387963\n",
       "min        1.000000  2008.000000    0.000000     0.000000        0.000000\n",
       "25%      189.750000  2011.000000    0.000000     0.000000        0.000000\n",
       "50%      378.500000  2013.000000    0.000000     0.000000        4.000000\n",
       "75%      567.250000  2016.000000    0.000000    19.000000        6.000000\n",
       "max    11415.000000  2019.000000    1.000000   146.000000       10.000000"
      ]
     },
     "execution_count": 15,
     "metadata": {},
     "output_type": "execute_result"
    }
   ],
   "source": [
    "matches.describe()"
   ]
  },
  {
   "cell_type": "code",
   "execution_count": 16,
   "metadata": {},
   "outputs": [
    {
     "name": "stdout",
     "output_type": "stream",
     "text": [
      "<class 'pandas.core.frame.DataFrame'>\n",
      "RangeIndex: 756 entries, 0 to 755\n",
      "Data columns (total 18 columns):\n",
      "id                 756 non-null int64\n",
      "season             756 non-null int64\n",
      "city               749 non-null object\n",
      "date               756 non-null object\n",
      "team1              756 non-null object\n",
      "team2              756 non-null object\n",
      "toss_winner        756 non-null object\n",
      "toss_decision      756 non-null object\n",
      "result             756 non-null object\n",
      "dl_applied         756 non-null int64\n",
      "winner             752 non-null object\n",
      "win_by_runs        756 non-null int64\n",
      "win_by_wickets     756 non-null int64\n",
      "player_of_match    752 non-null object\n",
      "venue              756 non-null object\n",
      "umpire1            754 non-null object\n",
      "umpire2            754 non-null object\n",
      "umpire3            119 non-null object\n",
      "dtypes: int64(5), object(13)\n",
      "memory usage: 106.4+ KB\n"
     ]
    }
   ],
   "source": [
    "matches.info()"
   ]
  },
  {
   "cell_type": "code",
   "execution_count": 17,
   "metadata": {},
   "outputs": [
    {
     "data": {
      "text/plain": [
       "array([2017, 2008, 2009, 2010, 2011, 2012, 2013, 2014, 2015, 2016, 2018,\n",
       "       2019])"
      ]
     },
     "execution_count": 17,
     "metadata": {},
     "output_type": "execute_result"
    }
   ],
   "source": [
    "matches['season'].unique()"
   ]
  },
  {
   "cell_type": "code",
   "execution_count": 18,
   "metadata": {},
   "outputs": [
    {
     "data": {
      "text/plain": [
       "146"
      ]
     },
     "execution_count": 18,
     "metadata": {},
     "output_type": "execute_result"
    }
   ],
   "source": [
    "max(matches['win_by_runs'])"
   ]
  },
  {
   "cell_type": "code",
   "execution_count": 19,
   "metadata": {},
   "outputs": [
    {
     "data": {
      "text/plain": [
       "id                               44\n",
       "season                         2017\n",
       "city                          Delhi\n",
       "date                     2017-05-06\n",
       "team1                Mumbai Indians\n",
       "team2              Delhi Daredevils\n",
       "toss_winner        Delhi Daredevils\n",
       "toss_decision                 field\n",
       "result                       normal\n",
       "dl_applied                        0\n",
       "winner               Mumbai Indians\n",
       "win_by_runs                     146\n",
       "win_by_wickets                    0\n",
       "player_of_match         LMP Simmons\n",
       "venue              Feroz Shah Kotla\n",
       "umpire1                 Nitin Menon\n",
       "umpire2                   CK Nandan\n",
       "umpire3                         NaN\n",
       "Name: 43, dtype: object"
      ]
     },
     "execution_count": 19,
     "metadata": {},
     "output_type": "execute_result"
    }
   ],
   "source": [
    "matches.iloc[matches['win_by_runs'].idxmax()]"
   ]
  },
  {
   "cell_type": "code",
   "execution_count": 20,
   "metadata": {},
   "outputs": [
    {
     "data": {
      "text/plain": [
       "10"
      ]
     },
     "execution_count": 20,
     "metadata": {},
     "output_type": "execute_result"
    }
   ],
   "source": [
    "max(matches['win_by_wickets'])"
   ]
  },
  {
   "cell_type": "code",
   "execution_count": 21,
   "metadata": {},
   "outputs": [
    {
     "data": {
      "text/plain": [
       "id                                                      3\n",
       "season                                               2017\n",
       "city                                               Rajkot\n",
       "date                                           2017-04-07\n",
       "team1                                       Gujarat Lions\n",
       "team2                               Kolkata Knight Riders\n",
       "toss_winner                         Kolkata Knight Riders\n",
       "toss_decision                                       field\n",
       "result                                             normal\n",
       "dl_applied                                              0\n",
       "winner                              Kolkata Knight Riders\n",
       "win_by_runs                                             0\n",
       "win_by_wickets                                         10\n",
       "player_of_match                                   CA Lynn\n",
       "venue              Saurashtra Cricket Association Stadium\n",
       "umpire1                                       Nitin Menon\n",
       "umpire2                                         CK Nandan\n",
       "umpire3                                               NaN\n",
       "Name: 2, dtype: object"
      ]
     },
     "execution_count": 21,
     "metadata": {},
     "output_type": "execute_result"
    }
   ],
   "source": [
    "matches.iloc[matches['win_by_wickets'].idxmax()]"
   ]
  },
  {
   "cell_type": "code",
   "execution_count": 22,
   "metadata": {},
   "outputs": [
    {
     "data": {
      "text/plain": [
       "id                                                        59\n",
       "season                                                  2017\n",
       "city                                               Hyderabad\n",
       "date                                              2017-05-21\n",
       "team1                                         Mumbai Indians\n",
       "team2                                 Rising Pune Supergiant\n",
       "toss_winner                                   Mumbai Indians\n",
       "toss_decision                                            bat\n",
       "result                                                normal\n",
       "dl_applied                                                 0\n",
       "winner                                        Mumbai Indians\n",
       "win_by_runs                                                1\n",
       "win_by_wickets                                             0\n",
       "player_of_match                                    KH Pandya\n",
       "venue              Rajiv Gandhi International Stadium, Uppal\n",
       "umpire1                                             NJ Llong\n",
       "umpire2                                               S Ravi\n",
       "umpire3                                                  NaN\n",
       "Name: 58, dtype: object"
      ]
     },
     "execution_count": 22,
     "metadata": {},
     "output_type": "execute_result"
    }
   ],
   "source": [
    "matches.iloc[matches[matches['win_by_runs'].ge(1)].win_by_runs.idxmin()]"
   ]
  },
  {
   "cell_type": "code",
   "execution_count": 23,
   "metadata": {},
   "outputs": [
    {
     "data": {
      "text/plain": [
       "id                                   560\n",
       "season                              2015\n",
       "city                             Kolkata\n",
       "date                          2015-05-09\n",
       "team1                    Kings XI Punjab\n",
       "team2              Kolkata Knight Riders\n",
       "toss_winner              Kings XI Punjab\n",
       "toss_decision                        bat\n",
       "result                            normal\n",
       "dl_applied                             0\n",
       "winner             Kolkata Knight Riders\n",
       "win_by_runs                            0\n",
       "win_by_wickets                         1\n",
       "player_of_match               AD Russell\n",
       "venue                       Eden Gardens\n",
       "umpire1                     AK Chaudhary\n",
       "umpire2                  HDPK Dharmasena\n",
       "umpire3                              NaN\n",
       "Name: 559, dtype: object"
      ]
     },
     "execution_count": 23,
     "metadata": {},
     "output_type": "execute_result"
    }
   ],
   "source": [
    "matches.iloc[matches[matches['win_by_wickets'].ge(1)].win_by_wickets.idxmin()]"
   ]
  },
  {
   "cell_type": "code",
   "execution_count": 24,
   "metadata": {},
   "outputs": [
    {
     "data": {
      "text/plain": [
       "array([0, 1])"
      ]
     },
     "execution_count": 24,
     "metadata": {},
     "output_type": "execute_result"
    }
   ],
   "source": [
    "matches['dl_applied'].unique()"
   ]
  },
  {
   "cell_type": "code",
   "execution_count": 25,
   "metadata": {},
   "outputs": [
    {
     "data": {
      "text/plain": [
       "0    737\n",
       "1     19\n",
       "Name: dl_applied, dtype: int64"
      ]
     },
     "execution_count": 25,
     "metadata": {},
     "output_type": "execute_result"
    }
   ],
   "source": [
    "matches['dl_applied'].value_counts()"
   ]
  },
  {
   "cell_type": "code",
   "execution_count": 26,
   "metadata": {},
   "outputs": [
    {
     "data": {
      "text/plain": [
       "0    97.49\n",
       "1     2.51\n",
       "Name: dl_applied, dtype: float64"
      ]
     },
     "execution_count": 26,
     "metadata": {},
     "output_type": "execute_result"
    }
   ],
   "source": [
    "round(matches['dl_applied'].value_counts()/matches['dl_applied'].count()*100, 2)"
   ]
  },
  {
   "cell_type": "code",
   "execution_count": 27,
   "metadata": {
    "scrolled": false
   },
   "outputs": [
    {
     "data": {
      "image/png": "[encoded data removed]",
      "text/plain": [
       "<Figure size 1008x576 with 1 Axes>"
      ]
     },
     "metadata": {
      "needs_background": "light"
     },
     "output_type": "display_data"
    }
   ],
   "source": [
    "sns.countplot(y='city', data=matches)\n",
    "plt.title('No. of matches held in each city\\n')\n",
    "plt.xlabel('\\nNo. of matches held')\n",
    "plt.ylabel('Cities\\n')\n",
    "plt.xlim([0,120])\n",
    "plt.show()"
   ]
  },
  {
   "cell_type": "code",
   "execution_count": 28,
   "metadata": {
    "scrolled": false
   },
   "outputs": [
    {
     "data": {
      "text/plain": [
       "Mumbai Indians                 109\n",
       "Chennai Super Kings            100\n",
       "Kolkata Knight Riders           92\n",
       "Royal Challengers Bangalore     84\n",
       "Kings XI Punjab                 82\n",
       "Rajasthan Royals                75\n",
       "Delhi Daredevils                67\n",
       "Sunrisers Hyderabad             58\n",
       "Deccan Chargers                 29\n",
       "Gujarat Lions                   13\n",
       "Pune Warriors                   12\n",
       "Rising Pune Supergiant          10\n",
       "Delhi Capitals                  10\n",
       "Kochi Tuskers Kerala             6\n",
       "Rising Pune Supergiants          5\n",
       "Name: winner, dtype: int64"
      ]
     },
     "execution_count": 28,
     "metadata": {},
     "output_type": "execute_result"
    }
   ],
   "source": [
    "matches['winner'].value_counts()"
   ]
  },
  {
   "cell_type": "code",
   "execution_count": 29,
   "metadata": {
    "scrolled": false
   },
   "outputs": [
    {
     "data": {
      "image/png": "[encoded data removed]",
      "text/plain": [
       "<Figure size 1008x576 with 1 Axes>"
      ]
     },
     "metadata": {
      "needs_background": "light"
     },
     "output_type": "display_data"
    }
   ],
   "source": [
    "data=matches['winner'].value_counts()\n",
    "fig, ax=plt.subplots()\n",
    "ax.set_xlim([0,120])\n",
    "sns.barplot(y=data.index, x=data, orient='h')\n",
    "plt.title('No. of matches won by each team\\n')\n",
    "plt.xlabel(\"\\nNo. of matches won\")\n",
    "plt.ylabel('Teams\\n')\n",
    "plt.show()"
   ]
  },
  {
   "cell_type": "code",
   "execution_count": 30,
   "metadata": {
    "scrolled": false
   },
   "outputs": [
    {
     "data": {
      "image/png": "[encoded data removed]",
      "text/plain": [
       "<Figure size 1008x576 with 1 Axes>"
      ]
     },
     "metadata": {
      "needs_background": "light"
     },
     "output_type": "display_data"
    }
   ],
   "source": [
    "sns.countplot(x='season', data=matches)\n",
    "plt.title('No. of matches held every season\\n')\n",
    "plt.xlabel('\\nSeason')\n",
    "plt.ylabel('No. of matches held\\n')\n",
    "plt.show()"
   ]
  },
  {
   "cell_type": "code",
   "execution_count": 31,
   "metadata": {},
   "outputs": [
    {
     "data": {
      "text/plain": [
       "CH Gayle          21\n",
       "AB de Villiers    20\n",
       "MS Dhoni          17\n",
       "RG Sharma         17\n",
       "DA Warner         17\n",
       "YK Pathan         16\n",
       "SR Watson         15\n",
       "SK Raina          14\n",
       "G Gambhir         13\n",
       "V Kohli           12\n",
       "Name: player_of_match, dtype: int64"
      ]
     },
     "execution_count": 31,
     "metadata": {},
     "output_type": "execute_result"
    }
   ],
   "source": [
    "mom=matches['player_of_match'].value_counts()[:10]\n",
    "mom"
   ]
  },
  {
   "cell_type": "code",
   "execution_count": 32,
   "metadata": {},
   "outputs": [
    {
     "data": {
      "image/png": "[encoded data removed]",
      "text/plain": [
       "<Figure size 1008x576 with 1 Axes>"
      ]
     },
     "metadata": {
      "needs_background": "light"
     },
     "output_type": "display_data"
    }
   ],
   "source": [
    "fig, ax=plt.subplots()\n",
    "ax.set_ylim([0,28])\n",
    "ax.set_title('Top 10 players based on no. of MOM awards won\\n')\n",
    "sns.barplot(x=mom.index, y=mom, orient='v')\n",
    "plt.ylabel('No. of MOM awards won\\n')\n",
    "plt.xlabel('\\nPlayers')\n",
    "plt.show()"
   ]
  },
  {
   "cell_type": "code",
   "execution_count": 33,
   "metadata": {},
   "outputs": [
    {
     "data": {
      "text/plain": [
       "False    363\n",
       "True     393\n",
       "dtype: int64"
      ]
     },
     "execution_count": 33,
     "metadata": {},
     "output_type": "execute_result"
    }
   ],
   "source": [
    "winnerwinner=matches['toss_winner']== matches['winner']\n",
    "winnerwinner.groupby(winnerwinner).size()"
   ]
  },
  {
   "cell_type": "code",
   "execution_count": 34,
   "metadata": {},
   "outputs": [
    {
     "data": {
      "text/plain": [
       "False    48.02\n",
       "True     51.98\n",
       "dtype: float64"
      ]
     },
     "execution_count": 34,
     "metadata": {},
     "output_type": "execute_result"
    }
   ],
   "source": [
    "round(winnerwinner.groupby(winnerwinner).size() / winnerwinner.count() * 100,2)"
   ]
  },
  {
   "cell_type": "code",
   "execution_count": 35,
   "metadata": {},
   "outputs": [
    {
     "data": {
      "text/plain": [
       "field    463\n",
       "bat      293\n",
       "Name: toss_decision, dtype: int64"
      ]
     },
     "execution_count": 35,
     "metadata": {},
     "output_type": "execute_result"
    }
   ],
   "source": [
    "matches['toss_decision'].value_counts()"
   ]
  },
  {
   "cell_type": "code",
   "execution_count": 36,
   "metadata": {},
   "outputs": [
    {
     "data": {
      "text/plain": [
       "field    61.24\n",
       "bat      38.76\n",
       "Name: toss_decision, dtype: float64"
      ]
     },
     "execution_count": 36,
     "metadata": {},
     "output_type": "execute_result"
    }
   ],
   "source": [
    "round(matches['toss_decision'].value_counts()/matches['toss_decision'].count()*100, 2)"
   ]
  },
  {
   "cell_type": "code",
   "execution_count": 37,
   "metadata": {},
   "outputs": [
    {
     "data": {
      "text/plain": [
       "56                                 M Chinnaswamy Stadium\n",
       "99                                      Feroz Shah Kotla\n",
       "102                                         Eden Gardens\n",
       "119                                             Newlands\n",
       "122                                            Kingsmead\n",
       "148                                      SuperSport Park\n",
       "251                                        Nehru Stadium\n",
       "280                                         Eden Gardens\n",
       "290                                M Chinnaswamy Stadium\n",
       "488                                     Feroz Shah Kotla\n",
       "536    Dr. Y.S. Rajasekhara Reddy ACA-VDCA Cricket St...\n",
       "567            Rajiv Gandhi International Stadium, Uppal\n",
       "597            Rajiv Gandhi International Stadium, Uppal\n",
       "620                                         Eden Gardens\n",
       "624    Dr. Y.S. Rajasekhara Reddy ACA-VDCA Cricket St...\n",
       "625                                M Chinnaswamy Stadium\n",
       "641                               Sawai Mansingh Stadium\n",
       "653                                         Eden Gardens\n",
       "667                                     Feroz Shah Kotla\n",
       "Name: venue, dtype: object"
      ]
     },
     "execution_count": 37,
     "metadata": {},
     "output_type": "execute_result"
    }
   ],
   "source": [
    "matches.query('dl_applied==1')['venue']"
   ]
  },
  {
   "cell_type": "code",
   "execution_count": 38,
   "metadata": {},
   "outputs": [
    {
     "data": {
      "text/plain": [
       "56         Bangalore\n",
       "99             Delhi\n",
       "102          Kolkata\n",
       "119        Cape Town\n",
       "122           Durban\n",
       "148        Centurion\n",
       "251            Kochi\n",
       "280          Kolkata\n",
       "290        Bangalore\n",
       "488            Delhi\n",
       "536    Visakhapatnam\n",
       "567        Hyderabad\n",
       "597        Hyderabad\n",
       "620          Kolkata\n",
       "624    Visakhapatnam\n",
       "625        Bangalore\n",
       "641           Jaipur\n",
       "653          Kolkata\n",
       "667            Delhi\n",
       "Name: city, dtype: object"
      ]
     },
     "execution_count": 38,
     "metadata": {},
     "output_type": "execute_result"
    }
   ],
   "source": [
    "matches.query('dl_applied==1')['city']"
   ]
  },
  {
   "cell_type": "markdown",
   "metadata": {},
   "source": []
  },
  {
   "cell_type": "code",
   "execution_count": 39,
   "metadata": {},
   "outputs": [
    {
     "data": {
      "text/plain": [
       "56     2017\n",
       "99     2008\n",
       "102    2008\n",
       "119    2009\n",
       "122    2009\n",
       "148    2009\n",
       "251    2011\n",
       "280    2011\n",
       "290    2011\n",
       "488    2014\n",
       "536    2015\n",
       "567    2015\n",
       "597    2016\n",
       "620    2016\n",
       "624    2016\n",
       "625    2016\n",
       "641    2018\n",
       "653    2018\n",
       "667    2018\n",
       "Name: season, dtype: int64"
      ]
     },
     "execution_count": 39,
     "metadata": {},
     "output_type": "execute_result"
    }
   ],
   "source": [
    "year=matches.query('dl_applied==1')['season']\n",
    "year"
   ]
  },
  {
   "cell_type": "code",
   "execution_count": 40,
   "metadata": {},
   "outputs": [
    {
     "data": {
      "image/png": "[encoded data removed]",
      "text/plain": [
       "<Figure size 1008x576 with 1 Axes>"
      ]
     },
     "metadata": {
      "needs_background": "light"
     },
     "output_type": "display_data"
    }
   ],
   "source": [
    "fig, ax=plt.subplots()\n",
    "ax.set_ylim([0,5])\n",
    "ax.set_title('No. of matches where D/L method was applied, season wise\\n')\n",
    "sns.countplot(x=year, data=matches)\n",
    "plt.xlabel('\\nSeason')\n",
    "plt.ylabel('No. of matches\\n')\n",
    "plt.show()"
   ]
  },
  {
   "cell_type": "code",
   "execution_count": 41,
   "metadata": {},
   "outputs": [
    {
     "data": {
      "text/plain": [
       "normal       743\n",
       "tie            9\n",
       "no result      4\n",
       "Name: result, dtype: int64"
      ]
     },
     "execution_count": 41,
     "metadata": {},
     "output_type": "execute_result"
    }
   ],
   "source": [
    "matches['result'].value_counts()"
   ]
  },
  {
   "cell_type": "code",
   "execution_count": 42,
   "metadata": {},
   "outputs": [
    {
     "data": {
      "text/plain": [
       "Mumbai Indians                 98\n",
       "Kolkata Knight Riders          92\n",
       "Chennai Super Kings            89\n",
       "Kings XI Punjab                81\n",
       "Royal Challengers Bangalore    81\n",
       "Rajasthan Royals               80\n",
       "Delhi Daredevils               80\n",
       "Sunrisers Hyderabad            46\n",
       "Deccan Chargers                43\n",
       "Pune Warriors                  20\n",
       "Gujarat Lions                  15\n",
       "Delhi Capitals                 10\n",
       "Kochi Tuskers Kerala            8\n",
       "Rising Pune Supergiants         7\n",
       "Rising Pune Supergiant          6\n",
       "Name: toss_winner, dtype: int64"
      ]
     },
     "execution_count": 42,
     "metadata": {},
     "output_type": "execute_result"
    }
   ],
   "source": [
    "matches['toss_winner'].value_counts()"
   ]
  },
  {
   "cell_type": "code",
   "execution_count": 127,
   "metadata": {},
   "outputs": [
    {
     "data": {
      "image/png": "[encoded data removed]",
      "text/plain": [
       "<Figure size 1008x576 with 1 Axes>"
      ]
     },
     "metadata": {
      "needs_background": "light"
     },
     "output_type": "display_data"
    }
   ],
   "source": [
    "toss=matches['toss_winner'].value_counts()\n",
    "fig, ax=plt.subplots()\n",
    "ax.set_title('No. of tosses won by each team\\n')\n",
    "sns.barplot(y=toss.index, x=toss, orient='h')\n",
    "plt.xlabel('\\nNo. of tosses won')\n",
    "plt.ylabel('Teams\\m')\n",
    "plt.show()"
   ]
  },
  {
   "cell_type": "code",
   "execution_count": null,
   "metadata": {},
   "outputs": [],
   "source": []
  }
 ],
 "metadata": {
  "kernelspec": {
   "display_name": "Python 3",
   "language": "python",
   "name": "python3"
  },
  "language_info": {
   "codemirror_mode": {
    "name": "ipython",
    "version": 3
   },
   "file_extension": ".py",
   "mimetype": "text/x-python",
   "name": "python",
   "nbconvert_exporter": "python",
   "pygments_lexer": "ipython3",
   "version": "3.7.3"
  }
 },
 "nbformat": 4,
 "nbformat_minor": 2
}
